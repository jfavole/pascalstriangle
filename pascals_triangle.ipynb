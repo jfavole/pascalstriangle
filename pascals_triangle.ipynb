{
 "cells": [
  {
   "cell_type": "code",
   "execution_count": 55,
   "metadata": {
    "collapsed": true
   },
   "outputs": [],
   "source": [
    "# Steps to building a program that will create Pascal's triangle:\n",
    "#    Define a way for the user to enter the integer specifying number of rows (limit to 20).\n",
    "#    Write the function to find combinations.\n",
    "#    Define formatting to print the rows specified, with a new line at the end of every row."
   ]
  },
  {
   "cell_type": "code",
   "execution_count": 56,
   "metadata": {
    "collapsed": true
   },
   "outputs": [],
   "source": [
    "import math as mth"
   ]
  },
  {
   "cell_type": "code",
   "execution_count": 94,
   "metadata": {
    "collapsed": false
   },
   "outputs": [],
   "source": [
    "def pascal():\n",
    "    \n",
    "    i = int(input(\"How many rows of the triangle should we print? Entry: \"))\n",
    "    \n",
    "    def combine(n,r):\n",
    "        ncr=(mt.factorial(n))/((mt.factorial(r))*(mt.factorial(n-r)))\n",
    "        return ncr\n",
    "    \n",
    "    for k in range(0, i+1): # Allows total number of rows to match i + 1 at top.\n",
    "        for l in range(0, k+1): \n",
    "            print(int(combine(k, l)), end=\" \")\n",
    "        print(\"\")\n",
    "    "
   ]
  },
  {
   "cell_type": "code",
   "execution_count": 95,
   "metadata": {
    "collapsed": false
   },
   "outputs": [
    {
     "name": "stdout",
     "output_type": "stream",
     "text": [
      "How many rows of the triangle should we print? Entry: 4\n",
      "1 \n",
      "1 1 \n",
      "1 2 1 \n",
      "1 3 3 1 \n",
      "1 4 6 4 1 \n"
     ]
    }
   ],
   "source": [
    "pascal()"
   ]
  }
 ],
 "metadata": {
  "kernelspec": {
   "display_name": "Python [default]",
   "language": "python",
   "name": "python3"
  },
  "language_info": {
   "codemirror_mode": {
    "name": "ipython",
    "version": 3
   },
   "file_extension": ".py",
   "mimetype": "text/x-python",
   "name": "python",
   "nbconvert_exporter": "python",
   "pygments_lexer": "ipython3",
   "version": "3.5.2"
  }
 },
 "nbformat": 4,
 "nbformat_minor": 1
}
